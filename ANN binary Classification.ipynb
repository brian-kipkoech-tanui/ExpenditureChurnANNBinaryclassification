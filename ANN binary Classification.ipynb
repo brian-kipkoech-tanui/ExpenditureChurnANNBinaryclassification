{
 "cells": [
  {
   "cell_type": "markdown",
   "id": "0370ebcc",
   "metadata": {},
   "source": [
    "# ANN Classification"
   ]
  },
  {
   "cell_type": "markdown",
   "id": "92412d8c",
   "metadata": {},
   "source": [
    "### Importing the libraries"
   ]
  },
  {
   "cell_type": "code",
   "execution_count": 1,
   "id": "5b6dfa9c",
   "metadata": {},
   "outputs": [],
   "source": [
    "import numpy as np\n",
    "import pandas as pd\n",
    "import tensorflow as tf"
   ]
  },
  {
   "cell_type": "code",
   "execution_count": 2,
   "id": "e8f946ae",
   "metadata": {},
   "outputs": [
    {
     "data": {
      "text/plain": [
       "'2.11.0'"
      ]
     },
     "execution_count": 2,
     "metadata": {},
     "output_type": "execute_result"
    }
   ],
   "source": [
    "tf.__version__"
   ]
  },
  {
   "cell_type": "markdown",
   "id": "2be26589",
   "metadata": {},
   "source": [
    "## Data Preprocessing"
   ]
  },
  {
   "cell_type": "markdown",
   "id": "34e9c111",
   "metadata": {},
   "source": [
    "### Importing the Dataset"
   ]
  },
  {
   "cell_type": "code",
   "execution_count": 3,
   "id": "1296a4c6",
   "metadata": {},
   "outputs": [
    {
     "name": "stdout",
     "output_type": "stream",
     "text": [
      "<class 'pandas.core.frame.DataFrame'>\n",
      "RangeIndex: 10000 entries, 0 to 9999\n",
      "Data columns (total 12 columns):\n",
      " #   Column    Non-Null Count  Dtype  \n",
      "---  ------    --------------  -----  \n",
      " 0   age       10000 non-null  int64  \n",
      " 1   gender    10000 non-null  int64  \n",
      " 2   marital   10000 non-null  float64\n",
      " 3   dep       10000 non-null  int64  \n",
      " 4   Income    10000 non-null  float64\n",
      " 5   Job yrs   10000 non-null  int64  \n",
      " 6   Town yrs  10000 non-null  int64  \n",
      " 7   Yrs Ed    10000 non-null  int64  \n",
      " 8   Dri Lic   10000 non-null  int64  \n",
      " 9   Own Home  10000 non-null  int64  \n",
      " 10  # Cred C  10000 non-null  int64  \n",
      " 11  Churn     10000 non-null  int64  \n",
      "dtypes: float64(2), int64(10)\n",
      "memory usage: 937.6 KB\n"
     ]
    }
   ],
   "source": [
    "dataset = pd.read_excel(\"./Expenditure-churn (3).xlsx\")\n",
    "dataset.info()"
   ]
  },
  {
   "cell_type": "code",
   "execution_count": 4,
   "id": "fee6351b",
   "metadata": {},
   "outputs": [],
   "source": [
    "X = dataset.iloc[:,:-1].values\n",
    "y = dataset.iloc[:,-1].values"
   ]
  },
  {
   "cell_type": "markdown",
   "id": "148a8416",
   "metadata": {},
   "source": [
    "### Splitting the data into Training and Test set"
   ]
  },
  {
   "cell_type": "code",
   "execution_count": 5,
   "id": "47c7f4b1",
   "metadata": {},
   "outputs": [],
   "source": [
    "from sklearn.model_selection import train_test_split\n",
    "\n",
    "X_train, X_test, y_train, y_test = train_test_split(X, y, test_size=0.25, random_state=0)"
   ]
  },
  {
   "cell_type": "markdown",
   "id": "85165977",
   "metadata": {},
   "source": [
    "### Feature Scaling"
   ]
  },
  {
   "cell_type": "code",
   "execution_count": 6,
   "id": "e996c098",
   "metadata": {},
   "outputs": [],
   "source": [
    "from sklearn.preprocessing import StandardScaler\n",
    "sc = StandardScaler()\n",
    "X_train = sc.fit_transform(X_train)\n",
    "X_test = sc.transform(X_test)"
   ]
  },
  {
   "cell_type": "markdown",
   "id": "6efeff94",
   "metadata": {},
   "source": [
    "## Building the ANN"
   ]
  },
  {
   "cell_type": "markdown",
   "id": "67e24e48",
   "metadata": {},
   "source": [
    "### Initializing the ann"
   ]
  },
  {
   "cell_type": "code",
   "execution_count": 7,
   "id": "a10802f0",
   "metadata": {},
   "outputs": [],
   "source": [
    "ann = tf.keras.models.Sequential()"
   ]
  },
  {
   "cell_type": "markdown",
   "id": "7f0d4595",
   "metadata": {},
   "source": [
    "### Adding the input layer and the first hidden layer  "
   ]
  },
  {
   "cell_type": "code",
   "execution_count": 8,
   "id": "104afe4f",
   "metadata": {},
   "outputs": [],
   "source": [
    "ann.add(tf.keras.layers.Dense(units=64, activation='relu')) "
   ]
  },
  {
   "cell_type": "markdown",
   "id": "7de40113",
   "metadata": {},
   "source": [
    "### Adding the second hidden layer"
   ]
  },
  {
   "cell_type": "code",
   "execution_count": 9,
   "id": "c113dadd",
   "metadata": {},
   "outputs": [],
   "source": [
    "ann.add(tf.keras.layers.Dense(units=48, activation='relu'))"
   ]
  },
  {
   "cell_type": "markdown",
   "id": "84216132",
   "metadata": {},
   "source": [
    "### Adding the Output layer"
   ]
  },
  {
   "cell_type": "code",
   "execution_count": 10,
   "id": "01af0540",
   "metadata": {},
   "outputs": [],
   "source": [
    "ann.add(tf.keras.layers.Dense(units=1, activation='sigmoid'))"
   ]
  },
  {
   "cell_type": "markdown",
   "id": "d8053b84",
   "metadata": {},
   "source": [
    "## Training the ANN"
   ]
  },
  {
   "cell_type": "markdown",
   "id": "aa079028",
   "metadata": {},
   "source": [
    "### Compiling the ANN"
   ]
  },
  {
   "cell_type": "code",
   "execution_count": 11,
   "id": "9d5008ee",
   "metadata": {},
   "outputs": [],
   "source": [
    "ann.compile(optimizer = 'adam', loss = 'binary_crossentropy', metrics = ['accuracy'])"
   ]
  },
  {
   "cell_type": "markdown",
   "id": "89d5513b",
   "metadata": {},
   "source": [
    "### Training the ANN on the Training Set"
   ]
  },
  {
   "cell_type": "code",
   "execution_count": 12,
   "id": "9f8f8f32",
   "metadata": {
    "scrolled": false
   },
   "outputs": [
    {
     "name": "stdout",
     "output_type": "stream",
     "text": [
      "Epoch 1/100\n",
      "235/235 [==============================] - 3s 4ms/step - loss: 0.2616 - accuracy: 0.8872\n",
      "Epoch 2/100\n",
      "235/235 [==============================] - 1s 3ms/step - loss: 0.0635 - accuracy: 0.9825\n",
      "Epoch 3/100\n",
      "235/235 [==============================] - 1s 3ms/step - loss: 0.0398 - accuracy: 0.9871\n",
      "Epoch 4/100\n",
      "235/235 [==============================] - 1s 3ms/step - loss: 0.0300 - accuracy: 0.9904\n",
      "Epoch 5/100\n",
      "235/235 [==============================] - 1s 3ms/step - loss: 0.0234 - accuracy: 0.9927\n",
      "Epoch 6/100\n",
      "235/235 [==============================] - 1s 3ms/step - loss: 0.0192 - accuracy: 0.9943\n",
      "Epoch 7/100\n",
      "235/235 [==============================] - 1s 3ms/step - loss: 0.0166 - accuracy: 0.9956\n",
      "Epoch 8/100\n",
      "235/235 [==============================] - 1s 3ms/step - loss: 0.0144 - accuracy: 0.9959\n",
      "Epoch 9/100\n",
      "235/235 [==============================] - 1s 3ms/step - loss: 0.0126 - accuracy: 0.9968\n",
      "Epoch 10/100\n",
      "235/235 [==============================] - 1s 4ms/step - loss: 0.0114 - accuracy: 0.9961\n",
      "Epoch 11/100\n",
      "235/235 [==============================] - 1s 4ms/step - loss: 0.0106 - accuracy: 0.9968\n",
      "Epoch 12/100\n",
      "235/235 [==============================] - 1s 4ms/step - loss: 0.0087 - accuracy: 0.9977\n",
      "Epoch 13/100\n",
      "235/235 [==============================] - 1s 3ms/step - loss: 0.0102 - accuracy: 0.9965\n",
      "Epoch 14/100\n",
      "235/235 [==============================] - 1s 3ms/step - loss: 0.0075 - accuracy: 0.9977\n",
      "Epoch 15/100\n",
      "235/235 [==============================] - 1s 3ms/step - loss: 0.0064 - accuracy: 0.9980\n",
      "Epoch 16/100\n",
      "235/235 [==============================] - 1s 3ms/step - loss: 0.0067 - accuracy: 0.9984\n",
      "Epoch 17/100\n",
      "235/235 [==============================] - 1s 3ms/step - loss: 0.0053 - accuracy: 0.9988\n",
      "Epoch 18/100\n",
      "235/235 [==============================] - 1s 3ms/step - loss: 0.0045 - accuracy: 0.9991\n",
      "Epoch 19/100\n",
      "235/235 [==============================] - 1s 4ms/step - loss: 0.0041 - accuracy: 0.9989\n",
      "Epoch 20/100\n",
      "235/235 [==============================] - 1s 4ms/step - loss: 0.0065 - accuracy: 0.9975\n",
      "Epoch 21/100\n",
      "235/235 [==============================] - 1s 4ms/step - loss: 0.0048 - accuracy: 0.9987\n",
      "Epoch 22/100\n",
      "235/235 [==============================] - 1s 3ms/step - loss: 0.0038 - accuracy: 0.9988\n",
      "Epoch 23/100\n",
      "235/235 [==============================] - 1s 3ms/step - loss: 0.0026 - accuracy: 0.9995\n",
      "Epoch 24/100\n",
      "235/235 [==============================] - 1s 3ms/step - loss: 0.0043 - accuracy: 0.9984\n",
      "Epoch 25/100\n",
      "235/235 [==============================] - 1s 3ms/step - loss: 0.0020 - accuracy: 0.9999\n",
      "Epoch 26/100\n",
      "235/235 [==============================] - 1s 3ms/step - loss: 0.0023 - accuracy: 0.9996\n",
      "Epoch 27/100\n",
      "235/235 [==============================] - 1s 3ms/step - loss: 0.0032 - accuracy: 0.9989\n",
      "Epoch 28/100\n",
      "235/235 [==============================] - 1s 3ms/step - loss: 0.0048 - accuracy: 0.9984\n",
      "Epoch 29/100\n",
      "235/235 [==============================] - 1s 3ms/step - loss: 0.0050 - accuracy: 0.9981\n",
      "Epoch 30/100\n",
      "235/235 [==============================] - 1s 3ms/step - loss: 0.0018 - accuracy: 0.9997\n",
      "Epoch 31/100\n",
      "235/235 [==============================] - 1s 3ms/step - loss: 0.0018 - accuracy: 0.9996\n",
      "Epoch 32/100\n",
      "235/235 [==============================] - 1s 3ms/step - loss: 0.0018 - accuracy: 0.9997\n",
      "Epoch 33/100\n",
      "235/235 [==============================] - 1s 3ms/step - loss: 0.0016 - accuracy: 0.9999\n",
      "Epoch 34/100\n",
      "235/235 [==============================] - 1s 3ms/step - loss: 0.0022 - accuracy: 0.9996\n",
      "Epoch 35/100\n",
      "235/235 [==============================] - 1s 3ms/step - loss: 0.0023 - accuracy: 0.9993\n",
      "Epoch 36/100\n",
      "235/235 [==============================] - 1s 3ms/step - loss: 0.0069 - accuracy: 0.9975\n",
      "Epoch 37/100\n",
      "235/235 [==============================] - 1s 3ms/step - loss: 0.0043 - accuracy: 0.9981\n",
      "Epoch 38/100\n",
      "235/235 [==============================] - 1s 3ms/step - loss: 0.0018 - accuracy: 0.9996\n",
      "Epoch 39/100\n",
      "235/235 [==============================] - 1s 3ms/step - loss: 8.0494e-04 - accuracy: 0.9999\n",
      "Epoch 40/100\n",
      "235/235 [==============================] - 1s 3ms/step - loss: 5.9393e-04 - accuracy: 1.0000\n",
      "Epoch 41/100\n",
      "235/235 [==============================] - 1s 3ms/step - loss: 5.7110e-04 - accuracy: 1.0000\n",
      "Epoch 42/100\n",
      "235/235 [==============================] - 1s 3ms/step - loss: 0.0029 - accuracy: 0.9987\n",
      "Epoch 43/100\n",
      "235/235 [==============================] - 1s 3ms/step - loss: 0.0028 - accuracy: 0.9992\n",
      "Epoch 44/100\n",
      "235/235 [==============================] - 1s 3ms/step - loss: 0.0015 - accuracy: 0.9995\n",
      "Epoch 45/100\n",
      "235/235 [==============================] - 1s 3ms/step - loss: 4.0946e-04 - accuracy: 1.0000\n",
      "Epoch 46/100\n",
      "235/235 [==============================] - 1s 3ms/step - loss: 4.3892e-04 - accuracy: 1.0000\n",
      "Epoch 47/100\n",
      "235/235 [==============================] - 1s 3ms/step - loss: 3.9667e-04 - accuracy: 1.0000\n",
      "Epoch 48/100\n",
      "235/235 [==============================] - 1s 3ms/step - loss: 3.2670e-04 - accuracy: 1.0000\n",
      "Epoch 49/100\n",
      "235/235 [==============================] - 1s 3ms/step - loss: 0.0066 - accuracy: 0.9981\n",
      "Epoch 50/100\n",
      "235/235 [==============================] - 1s 3ms/step - loss: 0.0062 - accuracy: 0.9981\n",
      "Epoch 51/100\n",
      "235/235 [==============================] - 1s 3ms/step - loss: 0.0040 - accuracy: 0.9988\n",
      "Epoch 52/100\n",
      "235/235 [==============================] - 1s 3ms/step - loss: 4.7653e-04 - accuracy: 1.0000\n",
      "Epoch 53/100\n",
      "235/235 [==============================] - 1s 3ms/step - loss: 3.1398e-04 - accuracy: 1.0000\n",
      "Epoch 54/100\n",
      "235/235 [==============================] - 1s 3ms/step - loss: 2.4859e-04 - accuracy: 1.0000\n",
      "Epoch 55/100\n",
      "235/235 [==============================] - 1s 3ms/step - loss: 3.7687e-04 - accuracy: 1.0000\n",
      "Epoch 56/100\n",
      "235/235 [==============================] - 1s 3ms/step - loss: 2.8085e-04 - accuracy: 1.0000\n",
      "Epoch 57/100\n",
      "235/235 [==============================] - 1s 3ms/step - loss: 1.9511e-04 - accuracy: 1.0000\n",
      "Epoch 58/100\n",
      "235/235 [==============================] - 1s 3ms/step - loss: 1.7072e-04 - accuracy: 1.0000\n",
      "Epoch 59/100\n",
      "235/235 [==============================] - 1s 3ms/step - loss: 1.6152e-04 - accuracy: 1.0000\n",
      "Epoch 60/100\n",
      "235/235 [==============================] - 1s 3ms/step - loss: 1.6068e-04 - accuracy: 1.0000\n",
      "Epoch 61/100\n",
      "235/235 [==============================] - 1s 3ms/step - loss: 0.0107 - accuracy: 0.9973\n",
      "Epoch 62/100\n",
      "235/235 [==============================] - 1s 3ms/step - loss: 0.0038 - accuracy: 0.9981\n",
      "Epoch 63/100\n",
      "235/235 [==============================] - 1s 3ms/step - loss: 3.4746e-04 - accuracy: 1.0000\n",
      "Epoch 64/100\n",
      "235/235 [==============================] - 1s 3ms/step - loss: 2.5776e-04 - accuracy: 1.0000\n",
      "Epoch 65/100\n",
      "235/235 [==============================] - 1s 3ms/step - loss: 2.0422e-04 - accuracy: 1.0000\n",
      "Epoch 66/100\n",
      "235/235 [==============================] - 1s 3ms/step - loss: 1.5546e-04 - accuracy: 1.0000\n",
      "Epoch 67/100\n",
      "235/235 [==============================] - 1s 3ms/step - loss: 1.5003e-04 - accuracy: 1.0000\n",
      "Epoch 68/100\n",
      "235/235 [==============================] - 1s 3ms/step - loss: 1.3928e-04 - accuracy: 1.0000\n",
      "Epoch 69/100\n",
      "235/235 [==============================] - 1s 3ms/step - loss: 1.3602e-04 - accuracy: 1.0000\n",
      "Epoch 70/100\n",
      "235/235 [==============================] - 1s 3ms/step - loss: 1.8484e-04 - accuracy: 1.0000\n",
      "Epoch 71/100\n",
      "235/235 [==============================] - 1s 3ms/step - loss: 4.6412e-04 - accuracy: 0.9999\n",
      "Epoch 72/100\n",
      "235/235 [==============================] - 1s 3ms/step - loss: 0.0033 - accuracy: 0.9987\n",
      "Epoch 73/100\n",
      "235/235 [==============================] - 1s 3ms/step - loss: 0.0093 - accuracy: 0.9976\n",
      "Epoch 74/100\n",
      "235/235 [==============================] - 1s 3ms/step - loss: 0.0022 - accuracy: 0.9993\n",
      "Epoch 75/100\n",
      "235/235 [==============================] - 1s 3ms/step - loss: 3.5701e-04 - accuracy: 1.0000\n",
      "Epoch 76/100\n",
      "235/235 [==============================] - 1s 3ms/step - loss: 1.2967e-04 - accuracy: 1.0000\n",
      "Epoch 77/100\n",
      "235/235 [==============================] - 1s 3ms/step - loss: 9.9854e-05 - accuracy: 1.0000\n",
      "Epoch 78/100\n",
      "235/235 [==============================] - 1s 3ms/step - loss: 9.9170e-05 - accuracy: 1.0000\n",
      "Epoch 79/100\n",
      "235/235 [==============================] - 1s 3ms/step - loss: 8.3809e-05 - accuracy: 1.0000\n",
      "Epoch 80/100\n"
     ]
    },
    {
     "name": "stdout",
     "output_type": "stream",
     "text": [
      "235/235 [==============================] - 1s 3ms/step - loss: 9.6040e-05 - accuracy: 1.0000\n",
      "Epoch 81/100\n",
      "235/235 [==============================] - 1s 3ms/step - loss: 1.0550e-04 - accuracy: 1.0000\n",
      "Epoch 82/100\n",
      "235/235 [==============================] - 1s 3ms/step - loss: 1.0744e-04 - accuracy: 1.0000\n",
      "Epoch 83/100\n",
      "235/235 [==============================] - 1s 3ms/step - loss: 1.3892e-04 - accuracy: 1.0000\n",
      "Epoch 84/100\n",
      "235/235 [==============================] - 1s 3ms/step - loss: 1.0314e-04 - accuracy: 1.0000\n",
      "Epoch 85/100\n",
      "235/235 [==============================] - 1s 3ms/step - loss: 0.0160 - accuracy: 0.9975\n",
      "Epoch 86/100\n",
      "235/235 [==============================] - 1s 3ms/step - loss: 0.0038 - accuracy: 0.9985\n",
      "Epoch 87/100\n",
      "235/235 [==============================] - 1s 3ms/step - loss: 0.0020 - accuracy: 0.9991\n",
      "Epoch 88/100\n",
      "235/235 [==============================] - 1s 3ms/step - loss: 0.0037 - accuracy: 0.9987\n",
      "Epoch 89/100\n",
      "235/235 [==============================] - 1s 3ms/step - loss: 4.8882e-04 - accuracy: 1.0000\n",
      "Epoch 90/100\n",
      "235/235 [==============================] - 1s 3ms/step - loss: 2.2288e-04 - accuracy: 1.0000\n",
      "Epoch 91/100\n",
      "235/235 [==============================] - 1s 3ms/step - loss: 1.1115e-04 - accuracy: 1.0000\n",
      "Epoch 92/100\n",
      "235/235 [==============================] - 1s 3ms/step - loss: 9.5189e-05 - accuracy: 1.0000\n",
      "Epoch 93/100\n",
      "235/235 [==============================] - 1s 3ms/step - loss: 1.0408e-04 - accuracy: 1.0000\n",
      "Epoch 94/100\n",
      "235/235 [==============================] - 1s 3ms/step - loss: 8.0245e-05 - accuracy: 1.0000\n",
      "Epoch 95/100\n",
      "235/235 [==============================] - 1s 3ms/step - loss: 9.1883e-05 - accuracy: 1.0000\n",
      "Epoch 96/100\n",
      "235/235 [==============================] - 1s 3ms/step - loss: 7.3396e-05 - accuracy: 1.0000\n",
      "Epoch 97/100\n",
      "235/235 [==============================] - 1s 3ms/step - loss: 9.4839e-05 - accuracy: 1.0000\n",
      "Epoch 98/100\n",
      "235/235 [==============================] - 1s 3ms/step - loss: 7.1007e-05 - accuracy: 1.0000\n",
      "Epoch 99/100\n",
      "235/235 [==============================] - 1s 3ms/step - loss: 8.0511e-05 - accuracy: 1.0000\n",
      "Epoch 100/100\n",
      "235/235 [==============================] - 1s 3ms/step - loss: 6.7545e-05 - accuracy: 1.0000\n"
     ]
    },
    {
     "data": {
      "text/plain": [
       "<keras.callbacks.History at 0x1b04584f788>"
      ]
     },
     "execution_count": 12,
     "metadata": {},
     "output_type": "execute_result"
    }
   ],
   "source": [
    "ann.fit(X_train, y_train, batch_size=32, epochs=100)"
   ]
  },
  {
   "cell_type": "markdown",
   "id": "f50e30c0",
   "metadata": {},
   "source": [
    "## Making Predictions and evaluating the model"
   ]
  },
  {
   "cell_type": "markdown",
   "id": "221c919e",
   "metadata": {},
   "source": [
    "### Predicting the test set results"
   ]
  },
  {
   "cell_type": "code",
   "execution_count": 13,
   "id": "50767478",
   "metadata": {},
   "outputs": [
    {
     "name": "stdout",
     "output_type": "stream",
     "text": [
      "79/79 [==============================] - 0s 2ms/step\n",
      "[[0 0]\n",
      " [0 0]\n",
      " [0 0]\n",
      " ...\n",
      " [0 0]\n",
      " [0 0]\n",
      " [0 0]]\n"
     ]
    }
   ],
   "source": [
    "y_pred = ann.predict(X_test)\n",
    "y_pred = (y_pred>0.5)\n",
    "print(np.concatenate((y_pred.reshape(len(y_pred),1), y_test.reshape(len(y_test),1)),1))"
   ]
  },
  {
   "cell_type": "markdown",
   "id": "65a41bd6",
   "metadata": {},
   "source": [
    "### Making the Confusion Matrix"
   ]
  },
  {
   "cell_type": "code",
   "execution_count": 15,
   "id": "87da0e32",
   "metadata": {},
   "outputs": [
    {
     "name": "stdout",
     "output_type": "stream",
     "text": [
      "Accuracy Score:   99.6\n",
      "Precision Score:  99.26650366748166\n",
      "Recall Score:     99.50980392156863\n",
      "roc_auc_score:    99.6\n",
      "\n",
      "Confusion Matrix:\n",
      " [[1678    6]\n",
      " [   4  812]]\n"
     ]
    }
   ],
   "source": [
    "from sklearn.metrics import confusion_matrix, accuracy_score, precision_score, recall_score, roc_auc_score\n",
    "cm = confusion_matrix(y_test, y_pred)\n",
    "# Print the errors\n",
    "print(\"Accuracy Score:   \"+str(accuracy_score(y_pred, y_test)*100))\n",
    "print(\"Precision Score:  \"+str(precision_score(y_pred, y_test)*100))\n",
    "print(\"Recall Score:     \"+str(recall_score(y_pred, y_test)*100))\n",
    "print(\"roc_auc_score:    \"+str(accuracy_score(y_pred, y_test)*100))\n",
    "print(\"\\nConfusion Matrix:\\n\", confusion_matrix(y_pred, y_test))"
   ]
  }
 ],
 "metadata": {
  "hide_input": false,
  "kernelspec": {
   "display_name": "Python 3",
   "language": "python",
   "name": "python3"
  },
  "language_info": {
   "codemirror_mode": {
    "name": "ipython",
    "version": 3
   },
   "file_extension": ".py",
   "mimetype": "text/x-python",
   "name": "python",
   "nbconvert_exporter": "python",
   "pygments_lexer": "ipython3",
   "version": "3.7.8"
  },
  "toc": {
   "base_numbering": 1,
   "nav_menu": {},
   "number_sections": true,
   "sideBar": true,
   "skip_h1_title": false,
   "title_cell": "Table of Contents",
   "title_sidebar": "Contents",
   "toc_cell": false,
   "toc_position": {},
   "toc_section_display": true,
   "toc_window_display": false
  }
 },
 "nbformat": 4,
 "nbformat_minor": 5
}
